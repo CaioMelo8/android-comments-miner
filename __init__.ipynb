{
 "cells": [
  {
   "cell_type": "code",
   "execution_count": 1,
   "metadata": {},
   "outputs": [
    {
     "name": "stdout",
     "output_type": "stream",
     "text": [
      "Importing Jupyter notebook from C:\\Users\\Caio\\Desktop\\android-comments-miner\\utils\\file_manager.ipynb\n",
      "Importing Jupyter notebook from C:\\Users\\Caio\\Desktop\\android-comments-miner\\utils\\pre_processing.ipynb\n"
     ]
    }
   ],
   "source": [
    "import os\n",
    "\n",
    "import nbimporter\n",
    "\n",
    "import utils.file_manager as fm\n",
    "import utils.pre_processing as ppc"
   ]
  },
  {
   "cell_type": "code",
   "execution_count": 2,
   "metadata": {
    "collapsed": true
   },
   "outputs": [],
   "source": [
    "data_basedir = \"C:\\\\Users\\\\Caio\\\\Desktop\\\\android-comments-miner\\\\data\\\\\"\n",
    "\n",
    "exports_basedir = os.path.join(data_basedir, \"exports\")\n",
    "clean_exports_basedir = os.path.join(data_basedir, \"clean_exports\")\n",
    "results_basedir = os.path.join(data_basedir, \"results\")\n",
    "         \n",
    "# Lista dos nomes dos diretórios que contém os exports\n",
    "exports_directories = [\"facebook\", \"telegram\"]\n",
    "\n",
    "# Colunas dos exports a serem consideradas\n",
    "columns = [\"Content\", \"CleanContent\", \"Source\", \"Rating\"]\n",
    "\n",
    "for directory in exports_directories:\n",
    "    filename = directory + \".csv\"\n",
    "    \n",
    "    export_dirpath = os.path.join(exports_basedir, directory)\n",
    "    \n",
    "    # Lê os exports do diretório\n",
    "    export = fm.read_csv_directory(dirpath=export_dirpath, header=1)\n",
    "    \n",
    "    # Realiza o pré-processamento do conteúdo dos exports\n",
    "    clean_export = ppc.clean_reviews(export=export)\n",
    "    \n",
    "    # Salva os exports já pré-processados em um arquivo .csv\n",
    "    fm.data_to_csv(data=clean_export,\\\n",
    "                   dirpath=clean_exports_basedir,\\\n",
    "                   filename=filename)"
   ]
  },
  {
   "cell_type": "code",
   "execution_count": null,
   "metadata": {
    "collapsed": true
   },
   "outputs": [],
   "source": []
  }
 ],
 "metadata": {
  "kernelspec": {
   "display_name": "Python 3",
   "language": "python",
   "name": "python3"
  },
  "language_info": {
   "codemirror_mode": {
    "name": "ipython",
    "version": 3
   },
   "file_extension": ".py",
   "mimetype": "text/x-python",
   "name": "python",
   "nbconvert_exporter": "python",
   "pygments_lexer": "ipython3",
   "version": "3.6.1"
  }
 },
 "nbformat": 4,
 "nbformat_minor": 2
}
