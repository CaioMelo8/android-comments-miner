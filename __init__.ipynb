{
 "cells": [
  {
   "cell_type": "code",
   "execution_count": 1,
   "metadata": {},
   "outputs": [
    {
     "name": "stdout",
     "output_type": "stream",
     "text": [
      "Importing Jupyter notebook from C:\\Users\\Caio\\Desktop\\android-comments-miner\\utils\\file_manager.ipynb\n",
      "Importing Jupyter notebook from C:\\Users\\Caio\\Desktop\\android-comments-miner\\utils\\pre_processing.ipynb\n"
     ]
    }
   ],
   "source": [
    "import os\n",
    "\n",
    "import nbimporter\n",
    "\n",
    "import utils.file_manager as fm\n",
    "import utils.pre_processing as ppc\n",
    "\n",
    "import minetext.clustering.distance as distance\n",
    "import minetext.clustering.kmedoids as kmedoids"
   ]
  },
  {
   "cell_type": "code",
   "execution_count": 2,
   "metadata": {},
   "outputs": [],
   "source": [
    "data_basedir = \"C:\\\\Users\\\\Caio\\\\Desktop\\\\android-comments-miner\\\\data\\\\\"\n",
    "\n",
    "exports_basedir = os.path.join(data_basedir, \"exports\")\n",
    "clean_exports_basedir = os.path.join(data_basedir, \"clean_exports\")\n",
    "results_basedir = os.path.join(data_basedir, \"results\")\n",
    "         \n",
    "# Lista dos nomes dos diretórios que contém os exports\n",
    "exports_directories = [\"facebook\", \"telegram\"]\n",
    "\n",
    "# Colunas dos exports a serem consideradas\n",
    "columns = [\"Content\", \"CleanContent\", \"Source\", \"Rating\"]\n",
    "\n",
    "distance_calculator = distance.JaccardCalculatorDistance()"
   ]
  },
  {
   "cell_type": "code",
   "execution_count": 3,
   "metadata": {
    "collapsed": true
   },
   "outputs": [],
   "source": [
    "for directory in exports_directories:\n",
    "    filename = directory + \".csv\"\n",
    "    \n",
    "    export_dirpath = os.path.join(exports_basedir, directory)\n",
    "    \n",
    "    # Lê os exports do diretório\n",
    "    export = fm.read_csv_directory(dirpath=export_dirpath, header=1)\n",
    "    \n",
    "    # Realiza o pré-processamento do conteúdo dos exports\n",
    "    clean_export = ppc.clean_reviews(export=export)\n",
    "    \n",
    "    # Salva os exports já pré-processados em um arquivo .csv\n",
    "    fm.data_to_csv(data=clean_export,\\\n",
    "                   dirpath=clean_exports_basedir,\\\n",
    "                   filename=filename,\\\n",
    "                   columns=columns)"
   ]
  },
  {
   "cell_type": "code",
   "execution_count": 5,
   "metadata": {},
   "outputs": [],
   "source": [
    "clean_exports = dict()\n",
    "\n",
    "for directory in exports_directories:\n",
    "    filename = directory + \".csv\"\n",
    "    \n",
    "    clean_export = fm.read_csv_file(dirpath=clean_exports_basedir,\\\n",
    "                                   filename=filename)\n",
    "    \n",
    "    reviews = clean_export.itertuples()\n",
    "    \n",
    "    documents = dict()\n",
    "    documents[\"documents\"] = []\n",
    "    \n",
    "    for export in reviews:\n",
    "        review = dict()\n",
    "        \n",
    "        review[\"Content\"] = export.Content\n",
    "        review[\"CleanContent\"] = export.CleanContent\n",
    "        review['Source'] = export.Source\n",
    "        review[\"Rating\"] = export.Rating\n",
    "        \n",
    "        documents[\"documents\"].append(review)\n",
    "        \n",
    "    results = dict()\n",
    "    results[\"k\"] = []\n",
    "    results[\"iteractions\"] = []\n",
    "    results[\"sse\"] = []\n",
    "        \n",
    "    for i in range(2, 21):\n",
    "        for j in range(1, 6):\n",
    "            kmedoids_instance = kmedoids.Kmedoids(k=i,\\\n",
    "                                              documents=documents[\"documents\"],\\\n",
    "                                              distance_calculator=distance_calculator,\\\n",
    "                                              collection_field=\"documents\", text_field_name=\"CleanContent\")\n",
    "        \n",
    "            kmedoids_instance.clustering()\n",
    "            \n",
    "            results[\"k\"].append(i)\n",
    "            results[\"sse\"].append(kmedoids_instance.calculate_sse())\n",
    "            results[\"iteractions\"].append(j)\n",
    "    \n",
    "    dirpath = os.path.join(results_basedir, directory)\n",
    "    \n",
    "    fm.overall_clustering_results_to_csv(results=results, dirpath=dirpath)"
   ]
  },
  {
   "cell_type": "code",
   "execution_count": null,
   "metadata": {
    "collapsed": true
   },
   "outputs": [],
   "source": []
  }
 ],
 "metadata": {
  "kernelspec": {
   "display_name": "Python 3",
   "language": "python",
   "name": "python3"
  },
  "language_info": {
   "codemirror_mode": {
    "name": "ipython",
    "version": 3
   },
   "file_extension": ".py",
   "mimetype": "text/x-python",
   "name": "python",
   "nbconvert_exporter": "python",
   "pygments_lexer": "ipython3",
   "version": "3.6.1"
  }
 },
 "nbformat": 4,
 "nbformat_minor": 2
}
