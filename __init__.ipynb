{
 "cells": [
  {
   "cell_type": "code",
   "execution_count": null,
   "metadata": {},
   "outputs": [],
   "source": [
    "import os\n",
    "import copy\n",
    "\n",
    "import nbimporter\n",
    "\n",
    "import utils.file_manager as fm\n",
    "import utils.pre_processing as ppc\n",
    "\n",
    "import minetext.clustering.distance as distance\n",
    "import minetext.clustering.kmedoids as kmedoids"
   ]
  },
  {
   "cell_type": "code",
   "execution_count": null,
   "metadata": {
    "collapsed": true
   },
   "outputs": [],
   "source": [
    "data_basedir = os.path.join(os.cwd(), \"data\")\n",
    "\n",
    "exports_basedir = os.path.join(data_basedir, \"exports\")\n",
    "clean_exports_basedir = os.path.join(data_basedir, \"clean_exports\")\n",
    "results_basedir = os.path.join(data_basedir, \"results\")\n",
    "\n",
    "fm.create_directory(data_basedir)\n",
    "fm.create_directory(exports_basedir)\n",
    "fm.create_directory(clean_exports_basedir)\n",
    "fm.create_directory(results_basedir)\n",
    "\n",
    "# Lista dos nomes dos diretórios que contém os exports\n",
    "exports_directories = [\"facebook\", \"telegram\"]\n",
    "\n",
    "# Colunas dos exports a serem consideradas\n",
    "columns = [\"Content\", \"CleanContent\", \"Source\", \"Rating\"]\n",
    "\n",
    "jaccard_calculator = distance.JaccardCalculatorDistance()"
   ]
  },
  {
   "cell_type": "code",
   "execution_count": null,
   "metadata": {
    "collapsed": true
   },
   "outputs": [],
   "source": [
    "for directory in exports_directories:\n",
    "    filename = directory + \".csv\"\n",
    "    \n",
    "    export_dirpath = os.path.join(exports_basedir, directory)\n",
    "    \n",
    "    # Lê os exports do diretório\n",
    "    export = fm.read_csv_directory(dirpath=export_dirpath, header=1)\n",
    "    \n",
    "    # Realiza o pré-processamento do conteúdo dos exports\n",
    "    clean_export = ppc.clean_reviews(export=export)\n",
    "    \n",
    "    # Salva os exports já pré-processados em um arquivo .csv\n",
    "    fm.data_to_csv(data=clean_export,\\\n",
    "                   dirpath=clean_exports_basedir,\\\n",
    "                   filename=filename,\\\n",
    "                   columns=columns)"
   ]
  },
  {
   "cell_type": "code",
   "execution_count": null,
   "metadata": {
    "collapsed": true
   },
   "outputs": [],
   "source": [
    "def tuple_to_dict(tuple_t):\n",
    "    review = dict()\n",
    "    \n",
    "    review[\"Content\"] = tuple_t.Content\n",
    "    review[\"CleanContent\"] = tuple_t.CleanContent\n",
    "    review['Source'] = tuple_t.Source\n",
    "    review[\"Rating\"] = tuple_t.Rating\n",
    "    \n",
    "    return review"
   ]
  },
  {
   "cell_type": "code",
   "execution_count": null,
   "metadata": {
    "collapsed": true
   },
   "outputs": [],
   "source": [
    "for directory in exports_directories:\n",
    "    clean_exports_filename = directory + \".csv\"\n",
    "    \n",
    "    clean_export = fm.read_csv_file(dirpath=clean_exports_basedir,\\\n",
    "                                   filename=clean_exports_filename)\n",
    "    \n",
    "    export_reviews = clean_export.itertuples() # Traz as linhas do dataframe em formato de tupla\n",
    "    \n",
    "    # Dict que armazenará as reviews como documentos a serem clusterizados\n",
    "    reviews = dict()\n",
    "    reviews[\"reviews\"] = []\n",
    "    \n",
    "    for review in export_reviews:\n",
    "        reviews[\"reviews\"].append(tuple_to_dict(review))\n",
    "        \n",
    "    results = dict()\n",
    "    results[\"k\"] = []\n",
    "    results[\"iteractions\"] = []\n",
    "    results[\"sse\"] = []\n",
    "    results[\"clusters\"] = []\n",
    "        \n",
    "    for i in range(2, 16):\n",
    "        for j in range(1, 6):\n",
    "            documents = copy.copy(reviews[\"reviews\"])\n",
    "            \n",
    "            kmedoids_instance = kmedoids.Kmedoids(k=i,\\\n",
    "                                              documents=documents,\\\n",
    "                                              distance_calculator=jaccard_calculator,\\\n",
    "                                              collection_field=\"reviews\", text_field_name=\"CleanContent\")\n",
    "        \n",
    "            kmedoids_instance.clustering()\n",
    "            \n",
    "            results[\"k\"].append(i)\n",
    "            results[\"sse\"].append(kmedoids_instance.calculate_sse())\n",
    "            results[\"iteractions\"].append(j)\n",
    "            results[\"clusters\"].append(kmedoids_instance.get_clusters())\n",
    "                \n",
    "                \n",
    "    results_dirpath = os.path.join(results_basedir, directory)\n",
    "    results_filename = \"overall_results.csv\"\n",
    "    \n",
    "    fm.data_to_csv(data=results, filename=results_filename, dirpath=results_dirpath, columns=[\"k\", \"sse\", \"iteractions\"])\n",
    "    fm.clusters_to_csv(results=results, dirpath=results_dirpath, collection_field=\"reviews\")"
   ]
  }
 ],
 "metadata": {
  "kernelspec": {
   "display_name": "Python 3",
   "language": "python",
   "name": "python3"
  },
  "language_info": {
   "codemirror_mode": {
    "name": "ipython",
    "version": 3
   },
   "file_extension": ".py",
   "mimetype": "text/x-python",
   "name": "python",
   "nbconvert_exporter": "python",
   "pygments_lexer": "ipython3",
   "version": "3.6.1"
  }
 },
 "nbformat": 4,
 "nbformat_minor": 2
}
