{
 "cells": [
  {
   "cell_type": "code",
   "execution_count": 11,
   "metadata": {
    "collapsed": true
   },
   "outputs": [],
   "source": [
    "import os\n",
    "import pandas as pd"
   ]
  },
  {
   "cell_type": "code",
   "execution_count": 12,
   "metadata": {
    "collapsed": true
   },
   "outputs": [],
   "source": [
    "def create_directory(dirpath):\n",
    "    if not os.path.exists(dirpath):\n",
    "        os.mkdir(dirpath)"
   ]
  },
  {
   "cell_type": "code",
   "execution_count": 19,
   "metadata": {
    "collapsed": true
   },
   "outputs": [],
   "source": [
    "def read_csv_file(dirpath, filename, header=0, encoding=\"UTF-8\"):\n",
    "    filepath = os.path.join(dirpath, filename)\n",
    "    \n",
    "    return pd.read_csv(filepath_or_buffer=filepath, header=header, encoding=encoding)"
   ]
  },
  {
   "cell_type": "code",
   "execution_count": 24,
   "metadata": {
    "collapsed": true
   },
   "outputs": [],
   "source": [
    "def read_csv_directory(dirpath, header=0, encoding=\"UTF-8\"):\n",
    "    dataframes = []\n",
    "    \n",
    "    csv_files = os.listdir(dirpath)\n",
    "    \n",
    "    for file in csv_files:    \n",
    "        filename = os.fsdecode(file)\n",
    "        \n",
    "        if filename.endswith(\".csv\"):\n",
    "            dataframe = read_csv_file(dirpath=dirpath, filename=filename, header=header, encoding=encoding)\n",
    "            \n",
    "            dataframes.append(dataframe)\n",
    "            \n",
    "    return pd.concat(dataframes)"
   ]
  },
  {
   "cell_type": "code",
   "execution_count": 28,
   "metadata": {
    "collapsed": true
   },
   "outputs": [],
   "source": [
    "def data_to_csv(data, dirpath, filename, columns=None, header=True, encoding=\"UTF-8\"):\n",
    "    create_directory(dirpath)\n",
    "    \n",
    "    filepath = os.path.join(dirpath, filename)\n",
    "    \n",
    "    output = pd.DataFrame(data=data, columns=columns)\n",
    "    \n",
    "    output.to_csv(path_or_buf=filepath, header=header, encoding=encoding)"
   ]
  }
 ],
 "metadata": {
  "kernelspec": {
   "display_name": "Python 3",
   "language": "python",
   "name": "python3"
  },
  "language_info": {
   "codemirror_mode": {
    "name": "ipython",
    "version": 3
   },
   "file_extension": ".py",
   "mimetype": "text/x-python",
   "name": "python",
   "nbconvert_exporter": "python",
   "pygments_lexer": "ipython3",
   "version": "3.6.1"
  }
 },
 "nbformat": 4,
 "nbformat_minor": 2
}
