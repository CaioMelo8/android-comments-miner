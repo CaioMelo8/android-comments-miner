{
 "cells": [
  {
   "cell_type": "code",
   "execution_count": null,
   "metadata": {
    "collapsed": true
   },
   "outputs": [],
   "source": [
    "import os\n",
    "import pandas as pd"
   ]
  },
  {
   "cell_type": "code",
   "execution_count": null,
   "metadata": {
    "collapsed": true
   },
   "outputs": [],
   "source": [
    "def create_directory(dirpath):\n",
    "    if not os.path.exists(dirpath):\n",
    "        os.mkdir(dirpath)"
   ]
  },
  {
   "cell_type": "code",
   "execution_count": null,
   "metadata": {
    "collapsed": true
   },
   "outputs": [],
   "source": [
    "def read_csv_file(dirpath, filename, header=0, encoding=\"UTF-8\"):\n",
    "    filepath = os.path.join(dirpath, filename)\n",
    "    \n",
    "    return pd.read_csv(filepath_or_buffer=filepath, header=header, encoding=encoding)"
   ]
  },
  {
   "cell_type": "code",
   "execution_count": null,
   "metadata": {
    "collapsed": true
   },
   "outputs": [],
   "source": [
    "def read_csv_directory(dirpath, header=0, encoding=\"UTF-8\"):\n",
    "    \n",
    "    dataframes = []\n",
    "    \n",
    "    files = os.listdir(dirpath)\n",
    "    \n",
    "    for file in files:    \n",
    "        filename = os.fsdecode(file)\n",
    "        \n",
    "        if filename.endswith(\".csv\"):\n",
    "            dataframe = read_csv_file(dirpath=dirpath, filename=filename, header=header, encoding=encoding)\n",
    "            \n",
    "            dataframes.append(dataframe)\n",
    "            \n",
    "    return pd.concat(dataframes)"
   ]
  },
  {
   "cell_type": "code",
   "execution_count": null,
   "metadata": {
    "collapsed": true
   },
   "outputs": [],
   "source": [
    "def data_to_csv(data, dirpath, filename, index=True, columns=None, header=True, encoding=\"UTF-8\"):\n",
    "    \n",
    "    create_directory(dirpath)\n",
    "    \n",
    "    filepath = os.path.join(dirpath, filename)\n",
    "    \n",
    "    output = pd.DataFrame(data=data, columns=columns)\n",
    "    \n",
    "    output.to_csv(path_or_buf=filepath, index=index, header=header, encoding=encoding)"
   ]
  },
  {
   "cell_type": "code",
   "execution_count": null,
   "metadata": {
    "collapsed": true
   },
   "outputs": [],
   "source": [
    "def clusters_to_csv(results, dirpath, collection_field=\"documents\", header=True, encoding=\"UTF-8\"):\n",
    "    \n",
    "    clustering_dirpath = os.path.join(dirpath, \"clustering\")\n",
    "    \n",
    "    create_directory(dirpath)\n",
    "    create_directory(clustering_dirpath)\n",
    "    \n",
    "    # results: k, sse, iteractions, clusters\n",
    "    for index, k in enumerate(results[\"k\"]):\n",
    "        iteraction = results[\"iteractions\"][index]\n",
    "        clusters = results[\"clusters\"][index]\n",
    "        \n",
    "        subdir_k = os.path.join(clustering_dirpath, \"K_\" + str(k))\n",
    "        subdir_iteraction = os.path.join(subdir_k, \"iteraction_\" + str(iteraction))\n",
    "        \n",
    "        create_directory(subdir_k)\n",
    "        create_directory(subdir_iteraction)\n",
    "        \n",
    "        for cluster in clusters:\n",
    "            filename = \"cluster_\" + str(cluster[\"id\"]) + \".csv\"\n",
    "            documents = cluster[collection_field]\n",
    "            \n",
    "            data_to_csv(data=documents, filename=filename, dirpath=subdir_iteraction)"
   ]
  }
 ],
 "metadata": {
  "kernelspec": {
   "display_name": "Python 3",
   "language": "python",
   "name": "python3"
  },
  "language_info": {
   "codemirror_mode": {
    "name": "ipython",
    "version": 3
   },
   "file_extension": ".py",
   "mimetype": "text/x-python",
   "name": "python",
   "nbconvert_exporter": "python",
   "pygments_lexer": "ipython3",
   "version": "3.6.1"
  }
 },
 "nbformat": 4,
 "nbformat_minor": 2
}
