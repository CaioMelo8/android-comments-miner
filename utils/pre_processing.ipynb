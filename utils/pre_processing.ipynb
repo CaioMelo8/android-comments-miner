{
 "cells": [
  {
   "cell_type": "code",
   "execution_count": null,
   "metadata": {
    "collapsed": true
   },
   "outputs": [],
   "source": [
    "import re\n",
    "\n",
    "from nltk.corpus import brown\n",
    "from nltk.corpus import stopwords\n",
    "from nltk.stem.porter import PorterStemmer"
   ]
  },
  {
   "cell_type": "code",
   "execution_count": null,
   "metadata": {
    "collapsed": true
   },
   "outputs": [],
   "source": [
    "def clean_reviews(export, content_column=\"Content\", clean_content_column=\"CleanContent\"):\n",
    "    # Conjunto de palavras da lingua inglesa\n",
    "    english_words_corpus = set(brown.words())\n",
    "    # Conjunto de stopwords da língua inglesa\n",
    "    english_stopwords_corpus = set(stopwords.words(\"english\"))\n",
    "    # Stemmizador PorterStemmer\n",
    "    stemmer = PorterStemmer()\n",
    "    \n",
    "    # Retorna somente os exports cujo conteúdo não é nulo\n",
    "    valid_export = export.loc[export[content_column].notnull()]\n",
    "    \n",
    "    # Retorna o conteúdo de cada review em formato de lista\n",
    "    reviews = valid_export[content_column]\n",
    "    \n",
    "    # Lista que armazenará as reviews limpas\n",
    "    clean_reviews = []\n",
    "    \n",
    "    for review in reviews:\n",
    "        # Retira todos os caracteres que não sejam letras (maiúsculas e minúsculas)\n",
    "        letters_only = re.sub(\"[^a-zA-Z]\", \" \", review)\n",
    "        \n",
    "        # Converte todas as letras para lower case\n",
    "        lower_case = letters_only.lower()\n",
    "        \n",
    "        # Separa o texto da review em uma lista de palavras\n",
    "        words_list = lower_case.split()\n",
    "        \n",
    "        # Obtém todas as palavras significativas, ao remover as stopwords\n",
    "        meaningful_words = [word for word in words_list if word not in english_stopwords_corpus]\n",
    "        \n",
    "        # Obtém todas as palavras que pertencem à lingua inglesa\n",
    "        english_words = [word for word in meaningful_words if word in english_words_corpus]\n",
    "        \n",
    "        # Obtém os stems das palavfen ras\n",
    "        stems = [stemmer.stem(word) for word in english_words]\n",
    "        \n",
    "        # Concatena todas as palavras que restaram, separadas por um caractere de espaço.\n",
    "        clean_review = \" \".join(stems)\n",
    "        \n",
    "        # Adiciona a review já pré-processada (limpa) à lista de reviews limpas\n",
    "        clean_reviews.append(clean_review)\n",
    "    \n",
    "    # Insere uma nova coluna no dataframe, contendo o conteúdo dos comentários já pré-processado\n",
    "    valid_export.insert(loc=len(valid_export.columns), column=clean_content_column, value=clean_reviews)\n",
    "    \n",
    "    # Retorna somente os comentários cujo conteúdo não está em branco\n",
    "    valid_export = valid_export.loc[valid_export[clean_content_column] != '']\n",
    "    \n",
    "    # Retorna a lista de exports já pré-processados\n",
    "    return valid_export"
   ]
  }
 ],
 "metadata": {
  "kernelspec": {
   "display_name": "Python 3",
   "language": "python",
   "name": "python3"
  },
  "language_info": {
   "codemirror_mode": {
    "name": "ipython",
    "version": 3
   },
   "file_extension": ".py",
   "mimetype": "text/x-python",
   "name": "python",
   "nbconvert_exporter": "python",
   "pygments_lexer": "ipython3",
   "version": "3.6.1"
  }
 },
 "nbformat": 4,
 "nbformat_minor": 2
}
