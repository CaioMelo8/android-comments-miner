{
 "cells": [
  {
   "cell_type": "code",
   "execution_count": null,
   "metadata": {
    "scrolled": true
   },
   "outputs": [],
   "source": [
    "import math\n",
    "import os.path\n",
    "import numpy as np\n",
    "import matplotlib.pyplot as plt\n",
    "\n",
    "import nbimporter\n",
    "\n",
    "import sys\n",
    "sys.path.append(\"..\")\n",
    "\n",
    "import utils.file_manager as fm\n",
    "\n",
    "from minetext.clustering import distance"
   ]
  },
  {
   "cell_type": "code",
   "execution_count": null,
   "metadata": {},
   "outputs": [],
   "source": [
    "def calculate_mininal_difference(overall_results):\n",
    "    k_values = overall_results['k']\n",
    "    sse_values = overall_results['sse']\n",
    "    \n",
    "    min_diff = dict()\n",
    "    min_diff[\"k1\"] = None\n",
    "    min_diff[\"sse1\"] = None\n",
    "    min_diff[\"k2\"] = None\n",
    "    min_diff[\"sse1\"] = None\n",
    "    min_diff[\"difference\"] = float(\"inf\")\n",
    "    \n",
    "    k_len = len(overall_results['k'])\n",
    "\n",
    "    for i in range(1, k_len):\n",
    "        diff = dict()\n",
    "        \n",
    "        diff[\"k1\"] = overall_results[\"k\"][i - 1]\n",
    "        diff[\"sse1\"] = overall_results[\"sse\"][i-1]\n",
    "        diff[\"k2\"] = overall_results[\"k\"][i]\n",
    "        diff[\"sse2\"] = overall_results[\"sse\"][i]\n",
    "        diff[\"difference\"] = np.absolute(np.diff(overall_results[\"sse\"][i-1:i+1]))[0]\n",
    "        \n",
    "        if diff[\"difference\"] < min_diff[\"difference\"]:\n",
    "            min_diff = diff\n",
    "            \n",
    "    return min_diff"
   ]
  },
  {
   "cell_type": "code",
   "execution_count": null,
   "metadata": {},
   "outputs": [],
   "source": [
    "def plot_overall_clustering_results(results, dirpath, filename_preffix=\"clustering_overall_results\"):\n",
    "    fm.create_directory(dirpath)\n",
    "    \n",
    "    figure_filepath = os.path.join(dirpath, filename_preffix + \".png\")\n",
    "    \n",
    "    label_fontsize = 16\n",
    "\n",
    "#     min_x = xoffset\n",
    "#     min_y = yoffset\n",
    "#     max_x = max(x) + xoffset\n",
    "#     max_y = max(y) + yoffset\n",
    "\n",
    "    fig = plt.figure()\n",
    "    fig.set_size_inches((14, 7))\n",
    "\n",
    "#     ax = fig.gca()\n",
    "#     ax.set_xlim([min_x, max_x])\n",
    "#     ax.set_ylim([min_y, max_y])\n",
    "\n",
    "    plt.xlabel(\"Número de Clusters (K)\", fontsize=label_fontsize)\n",
    "    plt.ylabel(\"Soma dos Quadrados dos Erros (SSE)\", fontsize=label_fontsize)\n",
    "\n",
    "    plt.scatter(results[\"k\"], results[\"sse\"])\n",
    "    plt.grid()\n",
    "\n",
    "    plt.savefig(figure_filepath)\n",
    "    plt.close()"
   ]
  },
  {
   "cell_type": "code",
   "execution_count": null,
   "metadata": {},
   "outputs": [],
   "source": [
    "def plot_clusters_mean_ratings(export, dirpath, k, filename_preffix=\"mean_rating\", xoffset=0, yoffset=0, min_rating=0, max_rating=5):\n",
    "    fm.create_directory(dirpath)\n",
    "    \n",
    "    filename = filename_preffix + \"_k_\" + str(k) + \".png\"\n",
    "    filepath = os.path.join(dirpath, filename)\n",
    "    \n",
    "    k_clusters = export.loc[export['k'] == k]\n",
    "    mean_groups = k_clusters.groupby(['k', 'cluster'])[\"rating\"].mean().reset_index(name=\"mean_rating\")\n",
    "    \n",
    "    fig = plt.figure()\n",
    "    fig.set_size_inches((14, 7))\n",
    "    \n",
    "    plt.xlabel(\"Clusters\")\n",
    "    plt.ylabel(\"Mean ratings\")\n",
    "    plt.xlim([xoffset - 1, k + xoffset])\n",
    "    plt.ylim([min_rating, max_rating])\n",
    "    plt.xticks(np.arange(xoffset, k + xoffset, math.ceil(k / 25)))\n",
    "    plt.yticks(np.arange(min_rating, max_rating + 0.5, 0.5))\n",
    "    \n",
    "    plt.bar(mean_groups['cluster'].apply(lambda x: x + xoffset), mean_groups['mean_rating'])\n",
    "    \n",
    "    plt.savefig(filepath)\n",
    "    plt.close()"
   ]
  },
  {
   "cell_type": "code",
   "execution_count": null,
   "metadata": {},
   "outputs": [],
   "source": [
    "def plot_clusters_document_count(export, k, dirpath, filename_preffix=\"document_count\", xoffset=0, yoffset=0):\n",
    "    fm.create_directory(dirpath)\n",
    "    \n",
    "    filename = filename_preffix + \"_k_\" + str(k) + \".png\"\n",
    "    filepath = os.path.join(dirpath, filename)\n",
    "    \n",
    "    k_clusters = export.loc[export['k'] == k]\n",
    "    count_groups = k_clusters.groupby(['k', 'cluster'])[\"index\"].count().reset_index(name=\"document_count\")\n",
    "    \n",
    "    fig = plt.figure()\n",
    "    fig.set_size_inches((14, 7))\n",
    "    \n",
    "    plt.xlabel(\"Clusters\")\n",
    "    plt.ylabel(\"Document count\")\n",
    "    plt.xlim([xoffset - 1, k + xoffset])\n",
    "    plt.xticks(np.arange(xoffset, k + xoffset, math.ceil(k / 25)))\n",
    "    \n",
    "    plt.bar(count_groups[\"cluster\"], count_groups[\"document_count\"])\n",
    "    \n",
    "    plt.savefig(filepath)\n",
    "    plt.close()"
   ]
  }
 ],
 "metadata": {
  "kernelspec": {
   "display_name": "Python 3",
   "language": "python",
   "name": "python3"
  },
  "language_info": {
   "codemirror_mode": {
    "name": "ipython",
    "version": 3
   },
   "file_extension": ".py",
   "mimetype": "text/x-python",
   "name": "python",
   "nbconvert_exporter": "python",
   "pygments_lexer": "ipython3",
   "version": "3.6.3"
  }
 },
 "nbformat": 4,
 "nbformat_minor": 2
}
